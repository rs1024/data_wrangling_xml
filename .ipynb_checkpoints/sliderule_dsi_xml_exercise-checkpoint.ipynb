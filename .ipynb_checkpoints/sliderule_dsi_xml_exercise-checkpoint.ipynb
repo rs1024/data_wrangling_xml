{
 "cells": [
  {
   "cell_type": "markdown",
   "metadata": {},
   "source": [
    "# XML example and exercise\n",
    "****\n",
    "+ study examples of accessing nodes in XML tree structure  \n",
    "+ work on exercise to be completed and submitted\n",
    "****\n",
    "+ reference: https://docs.python.org/2.7/library/xml.etree.elementtree.html\n",
    "+ data source: http://www.dbis.informatik.uni-goettingen.de/Mondial\n",
    "****"
   ]
  },
  {
   "cell_type": "code",
   "execution_count": 111,
   "metadata": {
    "collapsed": true
   },
   "outputs": [],
   "source": [
    "from xml.etree import ElementTree as ET\n",
    "import pandas as pd\n",
    "import numpy as np"
   ]
  },
  {
   "cell_type": "markdown",
   "metadata": {},
   "source": [
    "## XML example\n",
    "\n",
    "+ for details about tree traversal and iterators, see https://docs.python.org/2.7/library/xml.etree.elementtree.html"
   ]
  },
  {
   "cell_type": "code",
   "execution_count": 14,
   "metadata": {
    "collapsed": false
   },
   "outputs": [],
   "source": [
    "document_tree = ET.parse( './data/mondial_database_less.xml' )"
   ]
  },
  {
   "cell_type": "code",
   "execution_count": 19,
   "metadata": {
    "collapsed": false
   },
   "outputs": [
    {
     "name": "stdout",
     "output_type": "stream",
     "text": [
      "Albania\n",
      "Greece\n",
      "Macedonia\n",
      "Serbia\n",
      "Montenegro\n",
      "Kosovo\n",
      "Andorra\n"
     ]
    }
   ],
   "source": [
    "# print names of all countries\n",
    "for child in document_tree.getroot():\n",
    "    print(child.find('name').text)"
   ]
  },
  {
   "cell_type": "code",
   "execution_count": 40,
   "metadata": {
    "collapsed": false
   },
   "outputs": [
    {
     "name": "stdout",
     "output_type": "stream",
     "text": [
      "* Albania:\n",
      "Tirana, Shkodër, Durrës, Vlorë, Elbasan, Korçë\n",
      "* Greece:\n",
      "Komotini, Kavala, Athina, Peiraias, Peristeri, Acharnes, Patra, Kozani, Kerkyra, Ioannina, Thessaloniki, Iraklio, Chania, Ermoupoli, Rhodes, Tripoli, Lamia, Chalkida, Larissa, Volos, Mytilini, Karyes\n",
      "* Macedonia:\n",
      "Skopje, Kumanovo\n",
      "* Serbia:\n",
      "Beograd, Novi Sad, Niš\n",
      "* Montenegro:\n",
      "Podgorica\n",
      "* Kosovo:\n",
      "Prishtine\n",
      "* Andorra:\n",
      "Andorra la Vella\n"
     ]
    }
   ],
   "source": [
    "# print names of all countries and their cities\n",
    "for element in document_tree.iterfind('country'):\n",
    "    print('* ' + element.find('name').text + ':'),\n",
    "    capitals_string = ''\n",
    "    for subelement in element.getiterator('city'):\n",
    "        capitals_string += subelement.find('name').text + ', '\n",
    "    print(capitals_string[:-2])"
   ]
  },
  {
   "cell_type": "markdown",
   "metadata": {},
   "source": [
    "****\n",
    "## XML exercise\n",
    "\n",
    "Using data in 'data/mondial_database.xml', the examples above, and refering to https://docs.python.org/2.7/library/xml.etree.elementtree.html, find\n",
    "\n",
    "1. 10 countries with the lowest infant mortality rates\n",
    "2. 10 cities with the largest population\n",
    "3. 10 ethnic groups with the largest overall populations (sum of best/latest estimates over all countries)\n",
    "4. name and country of a) longest river, b) largest lake and c) airport at highest elevation"
   ]
  },
  {
   "cell_type": "code",
   "execution_count": 86,
   "metadata": {
    "collapsed": true
   },
   "outputs": [],
   "source": [
    "tree = ET.parse( './data/mondial_database.xml' )\n",
    "root = tree.getroot()"
   ]
  },
  {
   "cell_type": "markdown",
   "metadata": {},
   "source": [
    "### 10 countries with the lowest infant mortality rates"
   ]
  },
  {
   "cell_type": "code",
   "execution_count": 114,
   "metadata": {
    "collapsed": false,
    "scrolled": true
   },
   "outputs": [
    {
     "data": {
      "text/html": [
       "<div>\n",
       "<table border=\"1\" class=\"dataframe\">\n",
       "  <thead>\n",
       "    <tr style=\"text-align: right;\">\n",
       "      <th></th>\n",
       "      <th>name</th>\n",
       "      <th>infant_mortality</th>\n",
       "    </tr>\n",
       "  </thead>\n",
       "  <tbody>\n",
       "    <tr>\n",
       "      <th>36</th>\n",
       "      <td>Monaco</td>\n",
       "      <td>1.81</td>\n",
       "    </tr>\n",
       "    <tr>\n",
       "      <th>90</th>\n",
       "      <td>Japan</td>\n",
       "      <td>2.13</td>\n",
       "    </tr>\n",
       "    <tr>\n",
       "      <th>109</th>\n",
       "      <td>Bermuda</td>\n",
       "      <td>2.48</td>\n",
       "    </tr>\n",
       "    <tr>\n",
       "      <th>34</th>\n",
       "      <td>Norway</td>\n",
       "      <td>2.48</td>\n",
       "    </tr>\n",
       "    <tr>\n",
       "      <th>98</th>\n",
       "      <td>Singapore</td>\n",
       "      <td>2.53</td>\n",
       "    </tr>\n",
       "    <tr>\n",
       "      <th>35</th>\n",
       "      <td>Sweden</td>\n",
       "      <td>2.60</td>\n",
       "    </tr>\n",
       "    <tr>\n",
       "      <th>8</th>\n",
       "      <td>Czech Republic</td>\n",
       "      <td>2.63</td>\n",
       "    </tr>\n",
       "    <tr>\n",
       "      <th>72</th>\n",
       "      <td>Hong Kong</td>\n",
       "      <td>2.73</td>\n",
       "    </tr>\n",
       "    <tr>\n",
       "      <th>73</th>\n",
       "      <td>Macao</td>\n",
       "      <td>3.13</td>\n",
       "    </tr>\n",
       "    <tr>\n",
       "      <th>39</th>\n",
       "      <td>Iceland</td>\n",
       "      <td>3.15</td>\n",
       "    </tr>\n",
       "  </tbody>\n",
       "</table>\n",
       "</div>"
      ],
      "text/plain": [
       "               name  infant_mortality\n",
       "36           Monaco              1.81\n",
       "90            Japan              2.13\n",
       "109         Bermuda              2.48\n",
       "34           Norway              2.48\n",
       "98        Singapore              2.53\n",
       "35           Sweden              2.60\n",
       "8    Czech Republic              2.63\n",
       "72        Hong Kong              2.73\n",
       "73            Macao              3.13\n",
       "39          Iceland              3.15"
      ]
     },
     "execution_count": 114,
     "metadata": {},
     "output_type": "execute_result"
    }
   ],
   "source": [
    "# create empty dictionary for country infant mortality rates\n",
    "country_mortality_dict = {}\n",
    "\n",
    "for country in tree.iterfind('country'):\n",
    "    # pull out infant mortality rate associated with each country\n",
    "    mortality = country.find('infant_mortality')\n",
    "    \n",
    "    # populate dict with country name and infant mortality rate\n",
    "    if mortality is not None:\n",
    "        country_mortality_dict[country.find('name').text] = float(mortality.text)\n",
    "\n",
    "#create dataframe from dict. note that we must pass the DataFrame constructor a list of the dict items        \n",
    "df = pd.DataFrame(list(country_mortality_dict.items()), columns=['name', 'infant_mortality'])\n",
    "\n",
    "df.sort_values('infant_mortality').head(10)"
   ]
  },
  {
   "cell_type": "code",
   "execution_count": 115,
   "metadata": {
    "collapsed": false
   },
   "outputs": [
    {
     "data": {
      "text/html": [
       "<div>\n",
       "<table border=\"1\" class=\"dataframe\">\n",
       "  <thead>\n",
       "    <tr style=\"text-align: right;\">\n",
       "      <th></th>\n",
       "      <th>name</th>\n",
       "      <th>infant_mortality</th>\n",
       "    </tr>\n",
       "  </thead>\n",
       "  <tbody>\n",
       "    <tr>\n",
       "      <th>36</th>\n",
       "      <td>Monaco</td>\n",
       "      <td>1.81</td>\n",
       "    </tr>\n",
       "    <tr>\n",
       "      <th>90</th>\n",
       "      <td>Japan</td>\n",
       "      <td>2.13</td>\n",
       "    </tr>\n",
       "    <tr>\n",
       "      <th>109</th>\n",
       "      <td>Bermuda</td>\n",
       "      <td>2.48</td>\n",
       "    </tr>\n",
       "    <tr>\n",
       "      <th>34</th>\n",
       "      <td>Norway</td>\n",
       "      <td>2.48</td>\n",
       "    </tr>\n",
       "    <tr>\n",
       "      <th>98</th>\n",
       "      <td>Singapore</td>\n",
       "      <td>2.53</td>\n",
       "    </tr>\n",
       "    <tr>\n",
       "      <th>35</th>\n",
       "      <td>Sweden</td>\n",
       "      <td>2.60</td>\n",
       "    </tr>\n",
       "    <tr>\n",
       "      <th>8</th>\n",
       "      <td>Czech Republic</td>\n",
       "      <td>2.63</td>\n",
       "    </tr>\n",
       "    <tr>\n",
       "      <th>72</th>\n",
       "      <td>Hong Kong</td>\n",
       "      <td>2.73</td>\n",
       "    </tr>\n",
       "    <tr>\n",
       "      <th>73</th>\n",
       "      <td>Macao</td>\n",
       "      <td>3.13</td>\n",
       "    </tr>\n",
       "    <tr>\n",
       "      <th>39</th>\n",
       "      <td>Iceland</td>\n",
       "      <td>3.15</td>\n",
       "    </tr>\n",
       "  </tbody>\n",
       "</table>\n",
       "</div>"
      ],
      "text/plain": [
       "               name  infant_mortality\n",
       "36           Monaco              1.81\n",
       "90            Japan              2.13\n",
       "109         Bermuda              2.48\n",
       "34           Norway              2.48\n",
       "98        Singapore              2.53\n",
       "35           Sweden              2.60\n",
       "8    Czech Republic              2.63\n",
       "72        Hong Kong              2.73\n",
       "73            Macao              3.13\n",
       "39          Iceland              3.15"
      ]
     },
     "execution_count": 115,
     "metadata": {},
     "output_type": "execute_result"
    }
   ],
   "source": [
    "# another way to do exercise 1, but with lists instead of dicts\n",
    "\n",
    "# create empty list for country infant mortality rates\n",
    "country_mortality_list = []\n",
    "\n",
    "for country in tree.iterfind('country'):\n",
    "    \n",
    "    # pull out infant mortality rate associated with each country\n",
    "    mortality = country.find('infant_mortality')\n",
    "    \n",
    "    # populate list with sublists of country name and infant mortality rate\n",
    "    if mortality is not None:\n",
    "        country_mortality_list.append([country.find('name').text, float(mortality.text)])\n",
    "\n",
    "# create dataframe from list        \n",
    "df2 = pd.DataFrame(country_mortality_list, columns=['name', 'infant_mortality'])\n",
    "\n",
    "df2.sort_values('infant_mortality').head(10)"
   ]
  },
  {
   "cell_type": "markdown",
   "metadata": {},
   "source": [
    "### 10 cities with the largest population"
   ]
  },
  {
   "cell_type": "code",
   "execution_count": 117,
   "metadata": {
    "collapsed": false,
    "scrolled": true
   },
   "outputs": [
    {
     "data": {
      "text/html": [
       "<div>\n",
       "<table border=\"1\" class=\"dataframe\">\n",
       "  <thead>\n",
       "    <tr style=\"text-align: right;\">\n",
       "      <th></th>\n",
       "      <th>name</th>\n",
       "      <th>population_2011</th>\n",
       "    </tr>\n",
       "  </thead>\n",
       "  <tbody>\n",
       "    <tr>\n",
       "      <th>1527</th>\n",
       "      <td>Mumbai</td>\n",
       "      <td>12442373.0</td>\n",
       "    </tr>\n",
       "    <tr>\n",
       "      <th>1582</th>\n",
       "      <td>Delhi</td>\n",
       "      <td>11034555.0</td>\n",
       "    </tr>\n",
       "    <tr>\n",
       "      <th>1515</th>\n",
       "      <td>Bangalore</td>\n",
       "      <td>8443675.0</td>\n",
       "    </tr>\n",
       "    <tr>\n",
       "      <th>1000</th>\n",
       "      <td>London</td>\n",
       "      <td>8250205.0</td>\n",
       "    </tr>\n",
       "    <tr>\n",
       "      <th>1382</th>\n",
       "      <td>Tehran</td>\n",
       "      <td>8154051.0</td>\n",
       "    </tr>\n",
       "    <tr>\n",
       "      <th>1470</th>\n",
       "      <td>Dhaka</td>\n",
       "      <td>7423137.0</td>\n",
       "    </tr>\n",
       "    <tr>\n",
       "      <th>1591</th>\n",
       "      <td>Hyderabad</td>\n",
       "      <td>6731790.0</td>\n",
       "    </tr>\n",
       "    <tr>\n",
       "      <th>1505</th>\n",
       "      <td>Ahmadabad</td>\n",
       "      <td>5577940.0</td>\n",
       "    </tr>\n",
       "    <tr>\n",
       "      <th>3056</th>\n",
       "      <td>Luanda</td>\n",
       "      <td>5000000.0</td>\n",
       "    </tr>\n",
       "    <tr>\n",
       "      <th>1556</th>\n",
       "      <td>Chennai</td>\n",
       "      <td>4646732.0</td>\n",
       "    </tr>\n",
       "  </tbody>\n",
       "</table>\n",
       "</div>"
      ],
      "text/plain": [
       "           name  population_2011\n",
       "1527     Mumbai       12442373.0\n",
       "1582      Delhi       11034555.0\n",
       "1515  Bangalore        8443675.0\n",
       "1000     London        8250205.0\n",
       "1382     Tehran        8154051.0\n",
       "1470      Dhaka        7423137.0\n",
       "1591  Hyderabad        6731790.0\n",
       "1505  Ahmadabad        5577940.0\n",
       "3056     Luanda        5000000.0\n",
       "1556    Chennai        4646732.0"
      ]
     },
     "execution_count": 117,
     "metadata": {},
     "output_type": "execute_result"
    }
   ],
   "source": [
    "largest_pop_list = []\n",
    "\n",
    "# iterate through tree to find all cities\n",
    "for city in tree.findall('.//city'):\n",
    "    \n",
    "    # store name of city in var name\n",
    "    name = city.find('name')\n",
    "    if name is None:\n",
    "        name = np.nan\n",
    "    else:\n",
    "        name = name.text\n",
    "    \n",
    "    # store population of city in 2011 in var population\n",
    "    population = city.find('population[@year=\"2011\"]')\n",
    "    if population is None:\n",
    "        population = np.nan\n",
    "    else:\n",
    "        population = int(population.text)\n",
    "    \n",
    "    # populate list with sublists of city name and population\n",
    "    largest_pop_list.append([name, population])\n",
    "\n",
    "# create dataframe out of list\n",
    "df3 = pd.DataFrame(largest_pop_list, columns=['name', 'population_2011'])\n",
    "\n",
    "df3.sort_values('population_2011', ascending=False).head(10)"
   ]
  },
  {
   "cell_type": "markdown",
   "metadata": {},
   "source": [
    "### 10 ethnic groups with the largest overall populations (sum of best/latest estimates over all countries)"
   ]
  },
  {
   "cell_type": "code",
   "execution_count": 143,
   "metadata": {
    "collapsed": false
   },
   "outputs": [
    {
     "name": "stdout",
     "output_type": "stream",
     "text": [
      "    ethnic_group           population\n",
      "80   Han Chinese     1,245,058,800.00\n",
      "106   Indo-Aryan       871,815,583.44\n",
      "128     European       494,872,219.72\n",
      "16       African       318,325,120.37\n",
      "105    Dravidian       302,713,744.25\n",
      "150      Mestizo       157,734,354.94\n",
      "98       Bengali       146,776,916.72\n",
      "33       Russian       131,856,996.08\n",
      "139     Japanese       126,534,212.00\n",
      "110        Malay       121,993,550.37\n"
     ]
    }
   ],
   "source": [
    "# create empty dict to store ethnic groups\n",
    "ethnicgroups = dict()\n",
    "\n",
    "# iterate through all countries\n",
    "for country in tree.iterfind('country'):\n",
    "    # create empty list to store population numbers\n",
    "    populations = []\n",
    "    \n",
    "    # populate populations with tuples of the year and the population\n",
    "    for population in country.findall('population'):\n",
    "        populations.append((int(population.get('year')), int(population.text)))\n",
    "    \n",
    "    # set max population (# only, not the year)\n",
    "    max_population = max(populations)[1]\n",
    "    \n",
    "    # populate ethnicgroups with population of corresponding group\n",
    "    for ethnicgroup in country.findall('ethnicgroup'):\n",
    "        # calculate population of ethnic group via percentage attribute and max population\n",
    "        population_ethnic_group = (float(ethnicgroup.get('percentage')) * \n",
    "                                   max_population / 100)\n",
    "        \n",
    "        ethnicgroups[ethnicgroup.text] = ethnicgroups.setdefault(ethnicgroup.text, 0) + population_ethnic_group\n",
    "\n",
    "# create dataframe out of ethnicgroups dict        \n",
    "ethnicdf = pd.DataFrame(list(ethnicgroups.items()))\n",
    "\n",
    "# create sorted dataframe\n",
    "sorted_df = ethnicdf.sort_values([1], ascending=False).head(10)\n",
    "\n",
    "# add column names\n",
    "sorted_df.columns = ['ethnic_group', 'population']\n",
    "\n",
    "print(sorted_df)"
   ]
  },
  {
   "cell_type": "markdown",
   "metadata": {},
   "source": [
    "### name and country of a) longest river, b) largest lake and c) airport at highest elevation"
   ]
  },
  {
   "cell_type": "code",
   "execution_count": 184,
   "metadata": {
    "collapsed": false
   },
   "outputs": [
    {
     "name": "stdout",
     "output_type": "stream",
     "text": [
      "Longest river: \n",
      "Name: Amazonas, Country: Colombia, Area: 6448\n",
      "\n",
      "Largest Lake: \n",
      "Name: Caspian Sea, Country: Russia, Area: 386400\n",
      "\n",
      "Highest airport: \n",
      "Name: El Alto Intl, Country: Bolivia, Elevation: 4063\n"
     ]
    }
   ],
   "source": [
    "# create empty dictionary for country codes\n",
    "code_to_country_dict = {}\n",
    "\n",
    "# populate country code dict\n",
    "for country in tree.iterfind('country'):\n",
    "    code_to_country_dict[country.get('car_code')] = country.find('name').text\n",
    "\n",
    "# populate rivers list with sublists of river names, length within the country, and country code\n",
    "rivers = []\n",
    "\n",
    "for river in tree.iterfind('river'):\n",
    "    for country in river.get('country').split():\n",
    "        length = river.find('length')\n",
    "        \n",
    "        if length is None:\n",
    "            length = np.nan\n",
    "        else:\n",
    "            length = float(length.text)\n",
    "        \n",
    "        rivers.append([river.find('name').text, length, code_to_country_dict[country]])\n",
    "\n",
    "# create a dataframe from the rivers list\n",
    "river_df = pd.DataFrame(rivers, columns=['name', 'length', 'country'])\n",
    "\n",
    "# populate lakes list with sublists of lake names, area within the country, and country code\n",
    "lakes = []\n",
    "\n",
    "for lake in tree.iterfind('lake'):\n",
    "    for country in lake.get('country').split():\n",
    "        area = lake.find('area')\n",
    "        \n",
    "        if area is None:\n",
    "            area = np.nan\n",
    "        else:\n",
    "            area = float(area.text)\n",
    "        \n",
    "        lakes.append([lake.find('name').text, area, code_to_country_dict[country]])\n",
    "\n",
    "# create a dataframe from the lakes list\n",
    "lake_df = pd.DataFrame(lakes, columns=['name', 'area', 'country'])\n",
    "\n",
    "# create an airport list with sublists of airport names, elevation within the country, and country code\n",
    "airports = []\n",
    "\n",
    "for airport in tree.iterfind('airport'):\n",
    "    for country in airport.get('country').split():\n",
    "        elevation = airport.find('elevation')\n",
    "        \n",
    "        if elevation is None or elevation.text is None:\n",
    "            continue\n",
    "        else:\n",
    "            elevation = float(elevation.text)\n",
    "            \n",
    "        airports.append([airport.find('name').text, elevation, code_to_country_dict[country]])\n",
    "\n",
    "# create a dataframe from the airports list\n",
    "airport_df = pd.DataFrame(airports, columns=['name', 'elevation', 'country'])\n",
    "\n",
    "# pull out longest river and accompanying variables and create series from data\n",
    "max_river = river_df.loc[river_df['length'].idxmax()]\n",
    "print('Longest river: \\nName: %s, Country: %s, Area: %d' % (max_river['name'], max_river.country, max_river.length))\n",
    "\n",
    "# pull out largest lake and accompanying variables and create series from data\n",
    "max_lake = lake_df.loc[lake_df['area'].idxmax()]\n",
    "print(\"\\nLargest Lake: \\nName: %s, Country: %s, Area: %d\" % (max_lake['name'], max_lake.country, max_lake.area))\n",
    "\n",
    "# pull out highest airport and accompanying variables and create series from data\n",
    "max_airport = airport_df.loc[airport_df['elevation'].idxmax()]\n",
    "print('\\nHighest airport: \\nName: %s, Country: %s, Elevation: %d' % (max_airport['name'], max_airport.country, max_airport.elevation))"
   ]
  },
  {
   "cell_type": "code",
   "execution_count": null,
   "metadata": {
    "collapsed": true
   },
   "outputs": [],
   "source": []
  },
  {
   "cell_type": "code",
   "execution_count": null,
   "metadata": {
    "collapsed": true
   },
   "outputs": [],
   "source": []
  },
  {
   "cell_type": "code",
   "execution_count": null,
   "metadata": {
    "collapsed": true
   },
   "outputs": [],
   "source": []
  },
  {
   "cell_type": "code",
   "execution_count": null,
   "metadata": {
    "collapsed": true
   },
   "outputs": [],
   "source": []
  }
 ],
 "metadata": {
  "kernelspec": {
   "display_name": "Python 3",
   "language": "python",
   "name": "python3"
  },
  "language_info": {
   "codemirror_mode": {
    "name": "ipython",
    "version": 3
   },
   "file_extension": ".py",
   "mimetype": "text/x-python",
   "name": "python",
   "nbconvert_exporter": "python",
   "pygments_lexer": "ipython3",
   "version": "3.6.0"
  }
 },
 "nbformat": 4,
 "nbformat_minor": 0
}
